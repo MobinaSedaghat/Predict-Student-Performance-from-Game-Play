{
  "cells": [
    {
      "cell_type": "markdown",
      "metadata": {
        "id": "view-in-github",
        "colab_type": "text"
      },
      "source": [
        "<a href=\"https://colab.research.google.com/github/MobinaSedaghat/Predict-Student-Performance-from-Game-Play/blob/main/Predict_Student_Performance.ipynb\" target=\"_parent\"><img src=\"https://colab.research.google.com/assets/colab-badge.svg\" alt=\"Open In Colab\"/></a>"
      ]
    },
    {
      "cell_type": "code",
      "execution_count": null,
      "metadata": {
        "id": "P2B0z_R2Rufj"
      },
      "outputs": [],
      "source": [
        "import pandas as pd\n",
        "import numpy as np\n",
        "import tensorflow as tf\n",
        "import pandas as pd\n",
        "import numpy as np\n",
        "import matplotlib.pyplot as plt"
      ]
    },
    {
      "cell_type": "markdown",
      "metadata": {
        "id": "KDVw_wyIQw_M"
      },
      "source": [
        "# Download Dataset"
      ]
    },
    {
      "cell_type": "code",
      "execution_count": null,
      "metadata": {
        "id": "HByU9XETQ0oO"
      },
      "outputs": [],
      "source": [
        "! mkdir ~/.kaggle"
      ]
    },
    {
      "cell_type": "code",
      "execution_count": null,
      "metadata": {
        "id": "Cf38bIsIRiP6"
      },
      "outputs": [],
      "source": [
        "! cp kaggle.json ~/.kaggle/"
      ]
    },
    {
      "cell_type": "code",
      "execution_count": null,
      "metadata": {
        "id": "EJgi-BDvRjxw"
      },
      "outputs": [],
      "source": [
        "! chmod 600 ~/.kaggle/kaggle.json"
      ]
    },
    {
      "cell_type": "code",
      "execution_count": null,
      "metadata": {
        "id": "xnwl4zKFRlop",
        "colab": {
          "base_uri": "https://localhost:8080/"
        },
        "outputId": "4f4d5d7a-c8e4-4725-b4e6-13df3b285062"
      },
      "outputs": [
        {
          "output_type": "stream",
          "name": "stdout",
          "text": [
            "Downloading predict-student-performance-from-game-play.zip to /content\n",
            "100% 966M/968M [00:28<00:00, 42.2MB/s]\n",
            "100% 968M/968M [00:28<00:00, 35.1MB/s]\n"
          ]
        }
      ],
      "source": [
        "!kaggle competitions download -c 'predict-student-performance-from-game-play'"
      ]
    },
    {
      "cell_type": "code",
      "execution_count": null,
      "metadata": {
        "id": "7mO6C0hIRnUq"
      },
      "outputs": [],
      "source": [
        "!mkdir predict-student-performance-from-game-play"
      ]
    },
    {
      "cell_type": "code",
      "execution_count": null,
      "metadata": {
        "id": "sJN7Ov1ARpPo",
        "colab": {
          "base_uri": "https://localhost:8080/"
        },
        "outputId": "ab33d93f-c911-48d6-d6b0-cc45d08abf45"
      },
      "outputs": [
        {
          "output_type": "stream",
          "name": "stdout",
          "text": [
            "Archive:  predict-student-performance-from-game-play.zip\n",
            "  inflating: predict-student-performance-from-game-play/jo_wilder/__init__.py  \n",
            "  inflating: predict-student-performance-from-game-play/jo_wilder/competition.cpython-37m-x86_64-linux-gnu.so  \n",
            "  inflating: predict-student-performance-from-game-play/jo_wilder_310/__init__.py  \n",
            "  inflating: predict-student-performance-from-game-play/jo_wilder_310/competition.cpython-310-x86_64-linux-gnu.so  \n",
            "  inflating: predict-student-performance-from-game-play/sample_submission.csv  \n",
            "  inflating: predict-student-performance-from-game-play/test.csv  \n",
            "  inflating: predict-student-performance-from-game-play/train.csv  \n",
            "  inflating: predict-student-performance-from-game-play/train_labels.csv  \n"
          ]
        }
      ],
      "source": [
        "!unzip predict-student-performance-from-game-play -d predict-student-performance-from-game-play"
      ]
    },
    {
      "cell_type": "markdown",
      "metadata": {
        "id": "g8Gk7PDrR2pB"
      },
      "source": [
        "#Load Data"
      ]
    },
    {
      "cell_type": "code",
      "execution_count": null,
      "metadata": {
        "id": "961EnGQoR-dQ"
      },
      "outputs": [],
      "source": [
        "dtypes={\n",
        "    'elapsed_time':np.int32,\n",
        "    'event_name':'category',\n",
        "    'name':'category',\n",
        "    'level':np.uint8,\n",
        "    'room_coor_x':np.float32,\n",
        "    'room_coor_y':np.float32,\n",
        "    'screen_coor_x':np.float32,\n",
        "    'screen_coor_y':np.float32,\n",
        "    'hover_duration':np.float32,\n",
        "    'text':'category',\n",
        "    'fqid':'category',\n",
        "    'room_fqid':'category',\n",
        "    'text_fqid':'category',\n",
        "    'fullscreen':'category',\n",
        "    'hq':'category',\n",
        "    'music':'category',\n",
        "    'level_group':'category'}"
      ]
    },
    {
      "cell_type": "code",
      "execution_count": null,
      "metadata": {
        "id": "mEmvr1_lSCa2"
      },
      "outputs": [],
      "source": [
        "data = pd.read_csv('predict-student-performance-from-game-play/train.csv',dtype=dtypes)"
      ]
    },
    {
      "cell_type": "code",
      "source": [
        "data.head(10)"
      ],
      "metadata": {
        "id": "1YVPgMrEF0l0",
        "outputId": "6c34d4da-0b76-4106-d8ef-ab93610b0fc6",
        "colab": {
          "base_uri": "https://localhost:8080/",
          "height": 496
        }
      },
      "execution_count": null,
      "outputs": [
        {
          "output_type": "execute_result",
          "data": {
            "text/plain": [
              "             session  index  elapsed_time      event_name   name  level  page  \\\n",
              "0  20090312431273200      0             0  cutscene_click  basic      0   NaN   \n",
              "1  20090312431273200      1          1323    person_click  basic      0   NaN   \n",
              "2  20090312431273200      2           831    person_click  basic      0   NaN   \n",
              "3  20090312431273200      3          1147    person_click  basic      0   NaN   \n",
              "4  20090312431273200      4          1863    person_click  basic      0   NaN   \n",
              "5  20090312431273200      5          3423    person_click  basic      0   NaN   \n",
              "6  20090312431273200      6          5197    person_click  basic      0   NaN   \n",
              "7  20090312431273200      7          6180    person_click  basic      0   NaN   \n",
              "8  20090312431273200      8          7014    person_click  basic      0   NaN   \n",
              "9  20090312431273200      9          7946    person_click  basic      0   NaN   \n",
              "\n",
              "   room_coor_x  room_coor_y  screen_coor_x  screen_coor_y  hover_duration  \\\n",
              "0  -413.991394  -159.314682          380.0          494.0             NaN   \n",
              "1  -413.991394  -159.314682          380.0          494.0             NaN   \n",
              "2  -413.991394  -159.314682          380.0          494.0             NaN   \n",
              "3  -413.991394  -159.314682          380.0          494.0             NaN   \n",
              "4  -412.991394  -159.314682          381.0          494.0             NaN   \n",
              "5  -412.991394  -157.314682          381.0          492.0             NaN   \n",
              "6   478.485077  -199.971680          593.0          485.0             NaN   \n",
              "7   503.355133  -168.619919          609.0          453.0             NaN   \n",
              "8   510.733429  -157.720642          615.0          442.0             NaN   \n",
              "9   512.048035  -153.743637          616.0          438.0             NaN   \n",
              "\n",
              "                                                text    fqid  \\\n",
              "0                                          undefined   intro   \n",
              "1                      Whatcha doing over there, Jo?  gramps   \n",
              "2                             Just talking to Teddy.  gramps   \n",
              "3                         I gotta run to my meeting!  gramps   \n",
              "4                                Can I come, Gramps?  gramps   \n",
              "5  Sure thing, Jo. Grab your notebook and come up...  gramps   \n",
              "6                              See you later, Teddy.   teddy   \n",
              "7                   I get to go to Gramps's meeting!   teddy   \n",
              "8                   Now where did I put my notebook?   teddy   \n",
              "9                           \\u00f0\\u0178\\u02dc\\u00b4   teddy   \n",
              "\n",
              "                        room_fqid  \\\n",
              "0  tunic.historicalsociety.closet   \n",
              "1  tunic.historicalsociety.closet   \n",
              "2  tunic.historicalsociety.closet   \n",
              "3  tunic.historicalsociety.closet   \n",
              "4  tunic.historicalsociety.closet   \n",
              "5  tunic.historicalsociety.closet   \n",
              "6  tunic.historicalsociety.closet   \n",
              "7  tunic.historicalsociety.closet   \n",
              "8  tunic.historicalsociety.closet   \n",
              "9  tunic.historicalsociety.closet   \n",
              "\n",
              "                                           text_fqid fullscreen hq music  \\\n",
              "0               tunic.historicalsociety.closet.intro          0  0     1   \n",
              "1  tunic.historicalsociety.closet.gramps.intro_0_...          0  0     1   \n",
              "2  tunic.historicalsociety.closet.gramps.intro_0_...          0  0     1   \n",
              "3  tunic.historicalsociety.closet.gramps.intro_0_...          0  0     1   \n",
              "4  tunic.historicalsociety.closet.gramps.intro_0_...          0  0     1   \n",
              "5  tunic.historicalsociety.closet.gramps.intro_0_...          0  0     1   \n",
              "6  tunic.historicalsociety.closet.teddy.intro_0_cs_0          0  0     1   \n",
              "7  tunic.historicalsociety.closet.teddy.intro_0_cs_0          0  0     1   \n",
              "8  tunic.historicalsociety.closet.teddy.intro_0_cs_0          0  0     1   \n",
              "9  tunic.historicalsociety.closet.teddy.intro_0_cs_0          0  0     1   \n",
              "\n",
              "  level_group  \n",
              "0         0-4  \n",
              "1         0-4  \n",
              "2         0-4  \n",
              "3         0-4  \n",
              "4         0-4  \n",
              "5         0-4  \n",
              "6         0-4  \n",
              "7         0-4  \n",
              "8         0-4  \n",
              "9         0-4  "
            ],
            "text/html": [
              "\n",
              "  <div id=\"df-8998eef6-158f-43fb-8220-fb1477c5fd2a\">\n",
              "    <div class=\"colab-df-container\">\n",
              "      <div>\n",
              "<style scoped>\n",
              "    .dataframe tbody tr th:only-of-type {\n",
              "        vertical-align: middle;\n",
              "    }\n",
              "\n",
              "    .dataframe tbody tr th {\n",
              "        vertical-align: top;\n",
              "    }\n",
              "\n",
              "    .dataframe thead th {\n",
              "        text-align: right;\n",
              "    }\n",
              "</style>\n",
              "<table border=\"1\" class=\"dataframe\">\n",
              "  <thead>\n",
              "    <tr style=\"text-align: right;\">\n",
              "      <th></th>\n",
              "      <th>session</th>\n",
              "      <th>index</th>\n",
              "      <th>elapsed_time</th>\n",
              "      <th>event_name</th>\n",
              "      <th>name</th>\n",
              "      <th>level</th>\n",
              "      <th>page</th>\n",
              "      <th>room_coor_x</th>\n",
              "      <th>room_coor_y</th>\n",
              "      <th>screen_coor_x</th>\n",
              "      <th>screen_coor_y</th>\n",
              "      <th>hover_duration</th>\n",
              "      <th>text</th>\n",
              "      <th>fqid</th>\n",
              "      <th>room_fqid</th>\n",
              "      <th>text_fqid</th>\n",
              "      <th>fullscreen</th>\n",
              "      <th>hq</th>\n",
              "      <th>music</th>\n",
              "      <th>level_group</th>\n",
              "    </tr>\n",
              "  </thead>\n",
              "  <tbody>\n",
              "    <tr>\n",
              "      <th>0</th>\n",
              "      <td>20090312431273200</td>\n",
              "      <td>0</td>\n",
              "      <td>0</td>\n",
              "      <td>cutscene_click</td>\n",
              "      <td>basic</td>\n",
              "      <td>0</td>\n",
              "      <td>NaN</td>\n",
              "      <td>-413.991394</td>\n",
              "      <td>-159.314682</td>\n",
              "      <td>380.0</td>\n",
              "      <td>494.0</td>\n",
              "      <td>NaN</td>\n",
              "      <td>undefined</td>\n",
              "      <td>intro</td>\n",
              "      <td>tunic.historicalsociety.closet</td>\n",
              "      <td>tunic.historicalsociety.closet.intro</td>\n",
              "      <td>0</td>\n",
              "      <td>0</td>\n",
              "      <td>1</td>\n",
              "      <td>0-4</td>\n",
              "    </tr>\n",
              "    <tr>\n",
              "      <th>1</th>\n",
              "      <td>20090312431273200</td>\n",
              "      <td>1</td>\n",
              "      <td>1323</td>\n",
              "      <td>person_click</td>\n",
              "      <td>basic</td>\n",
              "      <td>0</td>\n",
              "      <td>NaN</td>\n",
              "      <td>-413.991394</td>\n",
              "      <td>-159.314682</td>\n",
              "      <td>380.0</td>\n",
              "      <td>494.0</td>\n",
              "      <td>NaN</td>\n",
              "      <td>Whatcha doing over there, Jo?</td>\n",
              "      <td>gramps</td>\n",
              "      <td>tunic.historicalsociety.closet</td>\n",
              "      <td>tunic.historicalsociety.closet.gramps.intro_0_...</td>\n",
              "      <td>0</td>\n",
              "      <td>0</td>\n",
              "      <td>1</td>\n",
              "      <td>0-4</td>\n",
              "    </tr>\n",
              "    <tr>\n",
              "      <th>2</th>\n",
              "      <td>20090312431273200</td>\n",
              "      <td>2</td>\n",
              "      <td>831</td>\n",
              "      <td>person_click</td>\n",
              "      <td>basic</td>\n",
              "      <td>0</td>\n",
              "      <td>NaN</td>\n",
              "      <td>-413.991394</td>\n",
              "      <td>-159.314682</td>\n",
              "      <td>380.0</td>\n",
              "      <td>494.0</td>\n",
              "      <td>NaN</td>\n",
              "      <td>Just talking to Teddy.</td>\n",
              "      <td>gramps</td>\n",
              "      <td>tunic.historicalsociety.closet</td>\n",
              "      <td>tunic.historicalsociety.closet.gramps.intro_0_...</td>\n",
              "      <td>0</td>\n",
              "      <td>0</td>\n",
              "      <td>1</td>\n",
              "      <td>0-4</td>\n",
              "    </tr>\n",
              "    <tr>\n",
              "      <th>3</th>\n",
              "      <td>20090312431273200</td>\n",
              "      <td>3</td>\n",
              "      <td>1147</td>\n",
              "      <td>person_click</td>\n",
              "      <td>basic</td>\n",
              "      <td>0</td>\n",
              "      <td>NaN</td>\n",
              "      <td>-413.991394</td>\n",
              "      <td>-159.314682</td>\n",
              "      <td>380.0</td>\n",
              "      <td>494.0</td>\n",
              "      <td>NaN</td>\n",
              "      <td>I gotta run to my meeting!</td>\n",
              "      <td>gramps</td>\n",
              "      <td>tunic.historicalsociety.closet</td>\n",
              "      <td>tunic.historicalsociety.closet.gramps.intro_0_...</td>\n",
              "      <td>0</td>\n",
              "      <td>0</td>\n",
              "      <td>1</td>\n",
              "      <td>0-4</td>\n",
              "    </tr>\n",
              "    <tr>\n",
              "      <th>4</th>\n",
              "      <td>20090312431273200</td>\n",
              "      <td>4</td>\n",
              "      <td>1863</td>\n",
              "      <td>person_click</td>\n",
              "      <td>basic</td>\n",
              "      <td>0</td>\n",
              "      <td>NaN</td>\n",
              "      <td>-412.991394</td>\n",
              "      <td>-159.314682</td>\n",
              "      <td>381.0</td>\n",
              "      <td>494.0</td>\n",
              "      <td>NaN</td>\n",
              "      <td>Can I come, Gramps?</td>\n",
              "      <td>gramps</td>\n",
              "      <td>tunic.historicalsociety.closet</td>\n",
              "      <td>tunic.historicalsociety.closet.gramps.intro_0_...</td>\n",
              "      <td>0</td>\n",
              "      <td>0</td>\n",
              "      <td>1</td>\n",
              "      <td>0-4</td>\n",
              "    </tr>\n",
              "    <tr>\n",
              "      <th>5</th>\n",
              "      <td>20090312431273200</td>\n",
              "      <td>5</td>\n",
              "      <td>3423</td>\n",
              "      <td>person_click</td>\n",
              "      <td>basic</td>\n",
              "      <td>0</td>\n",
              "      <td>NaN</td>\n",
              "      <td>-412.991394</td>\n",
              "      <td>-157.314682</td>\n",
              "      <td>381.0</td>\n",
              "      <td>492.0</td>\n",
              "      <td>NaN</td>\n",
              "      <td>Sure thing, Jo. Grab your notebook and come up...</td>\n",
              "      <td>gramps</td>\n",
              "      <td>tunic.historicalsociety.closet</td>\n",
              "      <td>tunic.historicalsociety.closet.gramps.intro_0_...</td>\n",
              "      <td>0</td>\n",
              "      <td>0</td>\n",
              "      <td>1</td>\n",
              "      <td>0-4</td>\n",
              "    </tr>\n",
              "    <tr>\n",
              "      <th>6</th>\n",
              "      <td>20090312431273200</td>\n",
              "      <td>6</td>\n",
              "      <td>5197</td>\n",
              "      <td>person_click</td>\n",
              "      <td>basic</td>\n",
              "      <td>0</td>\n",
              "      <td>NaN</td>\n",
              "      <td>478.485077</td>\n",
              "      <td>-199.971680</td>\n",
              "      <td>593.0</td>\n",
              "      <td>485.0</td>\n",
              "      <td>NaN</td>\n",
              "      <td>See you later, Teddy.</td>\n",
              "      <td>teddy</td>\n",
              "      <td>tunic.historicalsociety.closet</td>\n",
              "      <td>tunic.historicalsociety.closet.teddy.intro_0_cs_0</td>\n",
              "      <td>0</td>\n",
              "      <td>0</td>\n",
              "      <td>1</td>\n",
              "      <td>0-4</td>\n",
              "    </tr>\n",
              "    <tr>\n",
              "      <th>7</th>\n",
              "      <td>20090312431273200</td>\n",
              "      <td>7</td>\n",
              "      <td>6180</td>\n",
              "      <td>person_click</td>\n",
              "      <td>basic</td>\n",
              "      <td>0</td>\n",
              "      <td>NaN</td>\n",
              "      <td>503.355133</td>\n",
              "      <td>-168.619919</td>\n",
              "      <td>609.0</td>\n",
              "      <td>453.0</td>\n",
              "      <td>NaN</td>\n",
              "      <td>I get to go to Gramps's meeting!</td>\n",
              "      <td>teddy</td>\n",
              "      <td>tunic.historicalsociety.closet</td>\n",
              "      <td>tunic.historicalsociety.closet.teddy.intro_0_cs_0</td>\n",
              "      <td>0</td>\n",
              "      <td>0</td>\n",
              "      <td>1</td>\n",
              "      <td>0-4</td>\n",
              "    </tr>\n",
              "    <tr>\n",
              "      <th>8</th>\n",
              "      <td>20090312431273200</td>\n",
              "      <td>8</td>\n",
              "      <td>7014</td>\n",
              "      <td>person_click</td>\n",
              "      <td>basic</td>\n",
              "      <td>0</td>\n",
              "      <td>NaN</td>\n",
              "      <td>510.733429</td>\n",
              "      <td>-157.720642</td>\n",
              "      <td>615.0</td>\n",
              "      <td>442.0</td>\n",
              "      <td>NaN</td>\n",
              "      <td>Now where did I put my notebook?</td>\n",
              "      <td>teddy</td>\n",
              "      <td>tunic.historicalsociety.closet</td>\n",
              "      <td>tunic.historicalsociety.closet.teddy.intro_0_cs_0</td>\n",
              "      <td>0</td>\n",
              "      <td>0</td>\n",
              "      <td>1</td>\n",
              "      <td>0-4</td>\n",
              "    </tr>\n",
              "    <tr>\n",
              "      <th>9</th>\n",
              "      <td>20090312431273200</td>\n",
              "      <td>9</td>\n",
              "      <td>7946</td>\n",
              "      <td>person_click</td>\n",
              "      <td>basic</td>\n",
              "      <td>0</td>\n",
              "      <td>NaN</td>\n",
              "      <td>512.048035</td>\n",
              "      <td>-153.743637</td>\n",
              "      <td>616.0</td>\n",
              "      <td>438.0</td>\n",
              "      <td>NaN</td>\n",
              "      <td>\\u00f0\\u0178\\u02dc\\u00b4</td>\n",
              "      <td>teddy</td>\n",
              "      <td>tunic.historicalsociety.closet</td>\n",
              "      <td>tunic.historicalsociety.closet.teddy.intro_0_cs_0</td>\n",
              "      <td>0</td>\n",
              "      <td>0</td>\n",
              "      <td>1</td>\n",
              "      <td>0-4</td>\n",
              "    </tr>\n",
              "  </tbody>\n",
              "</table>\n",
              "</div>\n",
              "      <button class=\"colab-df-convert\" onclick=\"convertToInteractive('df-8998eef6-158f-43fb-8220-fb1477c5fd2a')\"\n",
              "              title=\"Convert this dataframe to an interactive table.\"\n",
              "              style=\"display:none;\">\n",
              "        \n",
              "  <svg xmlns=\"http://www.w3.org/2000/svg\" height=\"24px\"viewBox=\"0 0 24 24\"\n",
              "       width=\"24px\">\n",
              "    <path d=\"M0 0h24v24H0V0z\" fill=\"none\"/>\n",
              "    <path d=\"M18.56 5.44l.94 2.06.94-2.06 2.06-.94-2.06-.94-.94-2.06-.94 2.06-2.06.94zm-11 1L8.5 8.5l.94-2.06 2.06-.94-2.06-.94L8.5 2.5l-.94 2.06-2.06.94zm10 10l.94 2.06.94-2.06 2.06-.94-2.06-.94-.94-2.06-.94 2.06-2.06.94z\"/><path d=\"M17.41 7.96l-1.37-1.37c-.4-.4-.92-.59-1.43-.59-.52 0-1.04.2-1.43.59L10.3 9.45l-7.72 7.72c-.78.78-.78 2.05 0 2.83L4 21.41c.39.39.9.59 1.41.59.51 0 1.02-.2 1.41-.59l7.78-7.78 2.81-2.81c.8-.78.8-2.07 0-2.86zM5.41 20L4 18.59l7.72-7.72 1.47 1.35L5.41 20z\"/>\n",
              "  </svg>\n",
              "      </button>\n",
              "      \n",
              "  <style>\n",
              "    .colab-df-container {\n",
              "      display:flex;\n",
              "      flex-wrap:wrap;\n",
              "      gap: 12px;\n",
              "    }\n",
              "\n",
              "    .colab-df-convert {\n",
              "      background-color: #E8F0FE;\n",
              "      border: none;\n",
              "      border-radius: 50%;\n",
              "      cursor: pointer;\n",
              "      display: none;\n",
              "      fill: #1967D2;\n",
              "      height: 32px;\n",
              "      padding: 0 0 0 0;\n",
              "      width: 32px;\n",
              "    }\n",
              "\n",
              "    .colab-df-convert:hover {\n",
              "      background-color: #E2EBFA;\n",
              "      box-shadow: 0px 1px 2px rgba(60, 64, 67, 0.3), 0px 1px 3px 1px rgba(60, 64, 67, 0.15);\n",
              "      fill: #174EA6;\n",
              "    }\n",
              "\n",
              "    [theme=dark] .colab-df-convert {\n",
              "      background-color: #3B4455;\n",
              "      fill: #D2E3FC;\n",
              "    }\n",
              "\n",
              "    [theme=dark] .colab-df-convert:hover {\n",
              "      background-color: #434B5C;\n",
              "      box-shadow: 0px 1px 3px 1px rgba(0, 0, 0, 0.15);\n",
              "      filter: drop-shadow(0px 1px 2px rgba(0, 0, 0, 0.3));\n",
              "      fill: #FFFFFF;\n",
              "    }\n",
              "  </style>\n",
              "\n",
              "      <script>\n",
              "        const buttonEl =\n",
              "          document.querySelector('#df-8998eef6-158f-43fb-8220-fb1477c5fd2a button.colab-df-convert');\n",
              "        buttonEl.style.display =\n",
              "          google.colab.kernel.accessAllowed ? 'block' : 'none';\n",
              "\n",
              "        async function convertToInteractive(key) {\n",
              "          const element = document.querySelector('#df-8998eef6-158f-43fb-8220-fb1477c5fd2a');\n",
              "          const dataTable =\n",
              "            await google.colab.kernel.invokeFunction('convertToInteractive',\n",
              "                                                     [key], {});\n",
              "          if (!dataTable) return;\n",
              "\n",
              "          const docLinkHtml = 'Like what you see? Visit the ' +\n",
              "            '<a target=\"_blank\" href=https://colab.research.google.com/notebooks/data_table.ipynb>data table notebook</a>'\n",
              "            + ' to learn more about interactive tables.';\n",
              "          element.innerHTML = '';\n",
              "          dataTable['output_type'] = 'display_data';\n",
              "          await google.colab.output.renderOutput(dataTable, element);\n",
              "          const docLink = document.createElement('div');\n",
              "          docLink.innerHTML = docLinkHtml;\n",
              "          element.appendChild(docLink);\n",
              "        }\n",
              "      </script>\n",
              "    </div>\n",
              "  </div>\n",
              "  "
            ]
          },
          "metadata": {},
          "execution_count": 39
        }
      ]
    },
    {
      "cell_type": "code",
      "execution_count": null,
      "metadata": {
        "id": "gZmfa1_XSF3H"
      },
      "outputs": [],
      "source": [
        "labels = pd.read_csv('predict-student-performance-from-game-play/train_labels.csv')"
      ]
    },
    {
      "cell_type": "code",
      "execution_count": null,
      "metadata": {
        "id": "vkzhzgSwSIrc"
      },
      "outputs": [],
      "source": [
        "test_data = pd.read_csv('predict-student-performance-from-game-play/test.csv',dtype=dtypes)"
      ]
    },
    {
      "cell_type": "markdown",
      "metadata": {
        "id": "dqK21hMASTDh"
      },
      "source": [
        "# Pre-Processing"
      ]
    },
    {
      "cell_type": "markdown",
      "metadata": {
        "id": "ISmKm2YRTa6k"
      },
      "source": []
    },
    {
      "cell_type": "code",
      "execution_count": null,
      "metadata": {
        "id": "_JrLy2gMSWmP"
      },
      "outputs": [],
      "source": [
        "def assign_group(x):\n",
        "    if x <= 3:\n",
        "        return '0-4'\n",
        "    elif x <= 13:\n",
        "        return '5-12'\n",
        "    elif x <= 22:\n",
        "        return '13-22'"
      ]
    },
    {
      "cell_type": "code",
      "execution_count": null,
      "metadata": {
        "id": "YXUZF7o3VbRY"
      },
      "outputs": [],
      "source": [
        "labels['session'] = labels.session_id.apply(lambda x: int(x.split('_')[0]) )\n",
        "labels['level'] = labels.session_id.apply(lambda x: int(x.split('_')[-1][1:]) )\n",
        "labels['level_group'] = labels['level'].apply(assign_group)"
      ]
    },
    {
      "cell_type": "code",
      "execution_count": null,
      "metadata": {
        "id": "cga9t29EShz-"
      },
      "outputs": [],
      "source": [
        "CATEGORICAL = ['event_name', 'name','fqid', 'room_fqid', 'text_fqid']\n",
        "NUMERICAL = ['page','room_coor_x', 'room_coor_y', 'screen_coor_x', 'screen_coor_y']"
      ]
    },
    {
      "cell_type": "code",
      "execution_count": null,
      "metadata": {
        "id": "hm0cPdn5SsWy"
      },
      "outputs": [],
      "source": [
        "def feature_engineer(df):\n",
        "    dfs = []\n",
        "    for c in CATEGORICAL:\n",
        "        tmp = df.groupby(['session','level'])[c].agg('nunique')\n",
        "        tmp.name = tmp.name + '_nunique'\n",
        "        dfs.append(tmp)\n",
        "    for c in NUMERICAL:\n",
        "        tmp = df.groupby(['session','level'])[c].agg('mean')\n",
        "        dfs.append(tmp)\n",
        "    for c in NUMERICAL:\n",
        "        tmp = df.groupby(['session','level'])[c].agg('std')\n",
        "        tmp.name = tmp.name + '_std'\n",
        "        dfs.append(tmp)\n",
        "    dfs.append(df.groupby(['session','level'])['hover_duration'].agg('sum'))\n",
        "    dfs.append(df.groupby(['session','level'])['elapsed_time'].agg('max') - df.groupby(['session','level'])['elapsed_time'].agg('min') )\n",
        "    df = pd.concat(dfs,axis=1)\n",
        "    df = df.fillna(-1)\n",
        "    df = df.reset_index()\n",
        "    df = df.set_index('session')\n",
        "    return df"
      ]
    },
    {
      "cell_type": "code",
      "execution_count": null,
      "metadata": {
        "id": "h2JLkYs_XGYo"
      },
      "outputs": [],
      "source": [
        "data.rename(columns={'session_id': 'session'}, inplace=True)\n",
        "data1 = feature_engineer(data)\n",
        "data1['level_group'] = data1['level'].apply(assign_group)"
      ]
    },
    {
      "cell_type": "code",
      "execution_count": null,
      "metadata": {
        "colab": {
          "base_uri": "https://localhost:8080/",
          "height": 519
        },
        "id": "Gco68K2rakPn",
        "outputId": "154ec1b5-7aae-4df3-90ba-2d1e9b43638c"
      },
      "outputs": [
        {
          "output_type": "execute_result",
          "data": {
            "text/plain": [
              "                   level  event_name_nunique  name_nunique  fqid_nunique  \\\n",
              "session                                                                    \n",
              "20090312431273200      0                   6             3             5   \n",
              "20090312431273200      1                   6             3             6   \n",
              "20090312431273200      2                   6             3             8   \n",
              "20090312431273200      3                   9             3            13   \n",
              "20090312431273200      4                   4             2             5   \n",
              "...                  ...                 ...           ...           ...   \n",
              "22100221145014656     18                  10             4            20   \n",
              "22100221145014656     19                   8             4             8   \n",
              "22100221145014656     20                   8             4            13   \n",
              "22100221145014656     21                   8             4            25   \n",
              "22100221145014656     22                   5             4             5   \n",
              "\n",
              "                   room_fqid_nunique  text_fqid_nunique  page  room_coor_x  \\\n",
              "session                                                                      \n",
              "20090312431273200                  1                  6  -1.0   -77.966362   \n",
              "20090312431273200                  3                  3  -1.0    40.961052   \n",
              "20090312431273200                  2                  5  -1.0   -32.314056   \n",
              "20090312431273200                  6                  5  -1.0   129.078979   \n",
              "20090312431273200                  2                  0  -1.0  -314.366455   \n",
              "...                              ...                ...   ...          ...   \n",
              "22100221145014656                  6                 15   5.0   192.271561   \n",
              "22100221145014656                  2                  4   5.0    23.592731   \n",
              "22100221145014656                  3                  2   6.0    13.970758   \n",
              "22100221145014656                  9                  4   6.0    43.715237   \n",
              "22100221145014656                  3                  0   6.0   260.624176   \n",
              "\n",
              "                   room_coor_y  screen_coor_x  screen_coor_y  page_std  \\\n",
              "session                                                                  \n",
              "20090312431273200  -170.396027     414.250000     463.571442      -1.0   \n",
              "20090312431273200   -51.532104     479.193542     356.612915      -1.0   \n",
              "20090312431273200   -20.021652     411.783783     344.459473      -1.0   \n",
              "20090312431273200   -73.856003     535.359985     387.859985      -1.0   \n",
              "20090312431273200   -33.835960     149.399994     358.200012      -1.0   \n",
              "...                        ...            ...            ...       ...   \n",
              "22100221145014656  -307.453400     462.376953     366.214661       0.0   \n",
              "22100221145014656  -348.888702     471.237274     394.237274       0.0   \n",
              "22100221145014656    50.846027     493.766663     289.100006       0.0   \n",
              "22100221145014656  -101.683220     460.196838     371.842529       0.0   \n",
              "22100221145014656   -15.525458     540.250000     343.083344       0.0   \n",
              "\n",
              "                   room_coor_x_std  room_coor_y_std  screen_coor_x_std  \\\n",
              "session                                                                  \n",
              "20090312431273200       469.524328        84.862476         211.047234   \n",
              "20090312431273200       358.166662       116.538196         188.452544   \n",
              "20090312431273200       324.386196       158.503091         178.524529   \n",
              "20090312431273200       389.874453       117.002236         204.998931   \n",
              "20090312431273200       422.014525        41.143422         181.938451   \n",
              "...                            ...              ...                ...   \n",
              "22100221145014656       570.298966       275.622202         224.434621   \n",
              "22100221145014656       578.013645       311.786995         265.885206   \n",
              "22100221145014656       353.842154       174.283247         253.825039   \n",
              "22100221145014656       367.892793       230.822052         235.666533   \n",
              "22100221145014656       302.806442       217.822175         217.931651   \n",
              "\n",
              "                   screen_coor_y_std  hover_duration  elapsed_time level_group  \n",
              "session                                                                         \n",
              "20090312431273200          87.147142             0.0         25766         0-4  \n",
              "20090312431273200          89.020102          7899.0         37346         0-4  \n",
              "20090312431273200         106.028716          4349.0         34253         0-4  \n",
              "20090312431273200         106.129303          6601.0         54712         0-4  \n",
              "20090312431273200          39.566540           267.0         38621        5-12  \n",
              "...                              ...             ...           ...         ...  \n",
              "22100221145014656         106.122278         11481.0        363623       13-22  \n",
              "22100221145014656         131.205070           818.0         79414       13-22  \n",
              "22100221145014656         163.963905         13294.0         53137       13-22  \n",
              "22100221145014656         148.489828         18361.0        260234       13-22  \n",
              "22100221145014656         212.904784          1251.0         17082       13-22  \n",
              "\n",
              "[541342 rows x 19 columns]"
            ],
            "text/html": [
              "\n",
              "  <div id=\"df-a8563ca9-8c1f-46a3-acf2-2dbb54784cbf\">\n",
              "    <div class=\"colab-df-container\">\n",
              "      <div>\n",
              "<style scoped>\n",
              "    .dataframe tbody tr th:only-of-type {\n",
              "        vertical-align: middle;\n",
              "    }\n",
              "\n",
              "    .dataframe tbody tr th {\n",
              "        vertical-align: top;\n",
              "    }\n",
              "\n",
              "    .dataframe thead th {\n",
              "        text-align: right;\n",
              "    }\n",
              "</style>\n",
              "<table border=\"1\" class=\"dataframe\">\n",
              "  <thead>\n",
              "    <tr style=\"text-align: right;\">\n",
              "      <th></th>\n",
              "      <th>level</th>\n",
              "      <th>event_name_nunique</th>\n",
              "      <th>name_nunique</th>\n",
              "      <th>fqid_nunique</th>\n",
              "      <th>room_fqid_nunique</th>\n",
              "      <th>text_fqid_nunique</th>\n",
              "      <th>page</th>\n",
              "      <th>room_coor_x</th>\n",
              "      <th>room_coor_y</th>\n",
              "      <th>screen_coor_x</th>\n",
              "      <th>screen_coor_y</th>\n",
              "      <th>page_std</th>\n",
              "      <th>room_coor_x_std</th>\n",
              "      <th>room_coor_y_std</th>\n",
              "      <th>screen_coor_x_std</th>\n",
              "      <th>screen_coor_y_std</th>\n",
              "      <th>hover_duration</th>\n",
              "      <th>elapsed_time</th>\n",
              "      <th>level_group</th>\n",
              "    </tr>\n",
              "    <tr>\n",
              "      <th>session</th>\n",
              "      <th></th>\n",
              "      <th></th>\n",
              "      <th></th>\n",
              "      <th></th>\n",
              "      <th></th>\n",
              "      <th></th>\n",
              "      <th></th>\n",
              "      <th></th>\n",
              "      <th></th>\n",
              "      <th></th>\n",
              "      <th></th>\n",
              "      <th></th>\n",
              "      <th></th>\n",
              "      <th></th>\n",
              "      <th></th>\n",
              "      <th></th>\n",
              "      <th></th>\n",
              "      <th></th>\n",
              "      <th></th>\n",
              "    </tr>\n",
              "  </thead>\n",
              "  <tbody>\n",
              "    <tr>\n",
              "      <th>20090312431273200</th>\n",
              "      <td>0</td>\n",
              "      <td>6</td>\n",
              "      <td>3</td>\n",
              "      <td>5</td>\n",
              "      <td>1</td>\n",
              "      <td>6</td>\n",
              "      <td>-1.0</td>\n",
              "      <td>-77.966362</td>\n",
              "      <td>-170.396027</td>\n",
              "      <td>414.250000</td>\n",
              "      <td>463.571442</td>\n",
              "      <td>-1.0</td>\n",
              "      <td>469.524328</td>\n",
              "      <td>84.862476</td>\n",
              "      <td>211.047234</td>\n",
              "      <td>87.147142</td>\n",
              "      <td>0.0</td>\n",
              "      <td>25766</td>\n",
              "      <td>0-4</td>\n",
              "    </tr>\n",
              "    <tr>\n",
              "      <th>20090312431273200</th>\n",
              "      <td>1</td>\n",
              "      <td>6</td>\n",
              "      <td>3</td>\n",
              "      <td>6</td>\n",
              "      <td>3</td>\n",
              "      <td>3</td>\n",
              "      <td>-1.0</td>\n",
              "      <td>40.961052</td>\n",
              "      <td>-51.532104</td>\n",
              "      <td>479.193542</td>\n",
              "      <td>356.612915</td>\n",
              "      <td>-1.0</td>\n",
              "      <td>358.166662</td>\n",
              "      <td>116.538196</td>\n",
              "      <td>188.452544</td>\n",
              "      <td>89.020102</td>\n",
              "      <td>7899.0</td>\n",
              "      <td>37346</td>\n",
              "      <td>0-4</td>\n",
              "    </tr>\n",
              "    <tr>\n",
              "      <th>20090312431273200</th>\n",
              "      <td>2</td>\n",
              "      <td>6</td>\n",
              "      <td>3</td>\n",
              "      <td>8</td>\n",
              "      <td>2</td>\n",
              "      <td>5</td>\n",
              "      <td>-1.0</td>\n",
              "      <td>-32.314056</td>\n",
              "      <td>-20.021652</td>\n",
              "      <td>411.783783</td>\n",
              "      <td>344.459473</td>\n",
              "      <td>-1.0</td>\n",
              "      <td>324.386196</td>\n",
              "      <td>158.503091</td>\n",
              "      <td>178.524529</td>\n",
              "      <td>106.028716</td>\n",
              "      <td>4349.0</td>\n",
              "      <td>34253</td>\n",
              "      <td>0-4</td>\n",
              "    </tr>\n",
              "    <tr>\n",
              "      <th>20090312431273200</th>\n",
              "      <td>3</td>\n",
              "      <td>9</td>\n",
              "      <td>3</td>\n",
              "      <td>13</td>\n",
              "      <td>6</td>\n",
              "      <td>5</td>\n",
              "      <td>-1.0</td>\n",
              "      <td>129.078979</td>\n",
              "      <td>-73.856003</td>\n",
              "      <td>535.359985</td>\n",
              "      <td>387.859985</td>\n",
              "      <td>-1.0</td>\n",
              "      <td>389.874453</td>\n",
              "      <td>117.002236</td>\n",
              "      <td>204.998931</td>\n",
              "      <td>106.129303</td>\n",
              "      <td>6601.0</td>\n",
              "      <td>54712</td>\n",
              "      <td>0-4</td>\n",
              "    </tr>\n",
              "    <tr>\n",
              "      <th>20090312431273200</th>\n",
              "      <td>4</td>\n",
              "      <td>4</td>\n",
              "      <td>2</td>\n",
              "      <td>5</td>\n",
              "      <td>2</td>\n",
              "      <td>0</td>\n",
              "      <td>-1.0</td>\n",
              "      <td>-314.366455</td>\n",
              "      <td>-33.835960</td>\n",
              "      <td>149.399994</td>\n",
              "      <td>358.200012</td>\n",
              "      <td>-1.0</td>\n",
              "      <td>422.014525</td>\n",
              "      <td>41.143422</td>\n",
              "      <td>181.938451</td>\n",
              "      <td>39.566540</td>\n",
              "      <td>267.0</td>\n",
              "      <td>38621</td>\n",
              "      <td>5-12</td>\n",
              "    </tr>\n",
              "    <tr>\n",
              "      <th>...</th>\n",
              "      <td>...</td>\n",
              "      <td>...</td>\n",
              "      <td>...</td>\n",
              "      <td>...</td>\n",
              "      <td>...</td>\n",
              "      <td>...</td>\n",
              "      <td>...</td>\n",
              "      <td>...</td>\n",
              "      <td>...</td>\n",
              "      <td>...</td>\n",
              "      <td>...</td>\n",
              "      <td>...</td>\n",
              "      <td>...</td>\n",
              "      <td>...</td>\n",
              "      <td>...</td>\n",
              "      <td>...</td>\n",
              "      <td>...</td>\n",
              "      <td>...</td>\n",
              "      <td>...</td>\n",
              "    </tr>\n",
              "    <tr>\n",
              "      <th>22100221145014656</th>\n",
              "      <td>18</td>\n",
              "      <td>10</td>\n",
              "      <td>4</td>\n",
              "      <td>20</td>\n",
              "      <td>6</td>\n",
              "      <td>15</td>\n",
              "      <td>5.0</td>\n",
              "      <td>192.271561</td>\n",
              "      <td>-307.453400</td>\n",
              "      <td>462.376953</td>\n",
              "      <td>366.214661</td>\n",
              "      <td>0.0</td>\n",
              "      <td>570.298966</td>\n",
              "      <td>275.622202</td>\n",
              "      <td>224.434621</td>\n",
              "      <td>106.122278</td>\n",
              "      <td>11481.0</td>\n",
              "      <td>363623</td>\n",
              "      <td>13-22</td>\n",
              "    </tr>\n",
              "    <tr>\n",
              "      <th>22100221145014656</th>\n",
              "      <td>19</td>\n",
              "      <td>8</td>\n",
              "      <td>4</td>\n",
              "      <td>8</td>\n",
              "      <td>2</td>\n",
              "      <td>4</td>\n",
              "      <td>5.0</td>\n",
              "      <td>23.592731</td>\n",
              "      <td>-348.888702</td>\n",
              "      <td>471.237274</td>\n",
              "      <td>394.237274</td>\n",
              "      <td>0.0</td>\n",
              "      <td>578.013645</td>\n",
              "      <td>311.786995</td>\n",
              "      <td>265.885206</td>\n",
              "      <td>131.205070</td>\n",
              "      <td>818.0</td>\n",
              "      <td>79414</td>\n",
              "      <td>13-22</td>\n",
              "    </tr>\n",
              "    <tr>\n",
              "      <th>22100221145014656</th>\n",
              "      <td>20</td>\n",
              "      <td>8</td>\n",
              "      <td>4</td>\n",
              "      <td>13</td>\n",
              "      <td>3</td>\n",
              "      <td>2</td>\n",
              "      <td>6.0</td>\n",
              "      <td>13.970758</td>\n",
              "      <td>50.846027</td>\n",
              "      <td>493.766663</td>\n",
              "      <td>289.100006</td>\n",
              "      <td>0.0</td>\n",
              "      <td>353.842154</td>\n",
              "      <td>174.283247</td>\n",
              "      <td>253.825039</td>\n",
              "      <td>163.963905</td>\n",
              "      <td>13294.0</td>\n",
              "      <td>53137</td>\n",
              "      <td>13-22</td>\n",
              "    </tr>\n",
              "    <tr>\n",
              "      <th>22100221145014656</th>\n",
              "      <td>21</td>\n",
              "      <td>8</td>\n",
              "      <td>4</td>\n",
              "      <td>25</td>\n",
              "      <td>9</td>\n",
              "      <td>4</td>\n",
              "      <td>6.0</td>\n",
              "      <td>43.715237</td>\n",
              "      <td>-101.683220</td>\n",
              "      <td>460.196838</td>\n",
              "      <td>371.842529</td>\n",
              "      <td>0.0</td>\n",
              "      <td>367.892793</td>\n",
              "      <td>230.822052</td>\n",
              "      <td>235.666533</td>\n",
              "      <td>148.489828</td>\n",
              "      <td>18361.0</td>\n",
              "      <td>260234</td>\n",
              "      <td>13-22</td>\n",
              "    </tr>\n",
              "    <tr>\n",
              "      <th>22100221145014656</th>\n",
              "      <td>22</td>\n",
              "      <td>5</td>\n",
              "      <td>4</td>\n",
              "      <td>5</td>\n",
              "      <td>3</td>\n",
              "      <td>0</td>\n",
              "      <td>6.0</td>\n",
              "      <td>260.624176</td>\n",
              "      <td>-15.525458</td>\n",
              "      <td>540.250000</td>\n",
              "      <td>343.083344</td>\n",
              "      <td>0.0</td>\n",
              "      <td>302.806442</td>\n",
              "      <td>217.822175</td>\n",
              "      <td>217.931651</td>\n",
              "      <td>212.904784</td>\n",
              "      <td>1251.0</td>\n",
              "      <td>17082</td>\n",
              "      <td>13-22</td>\n",
              "    </tr>\n",
              "  </tbody>\n",
              "</table>\n",
              "<p>541342 rows × 19 columns</p>\n",
              "</div>\n",
              "      <button class=\"colab-df-convert\" onclick=\"convertToInteractive('df-a8563ca9-8c1f-46a3-acf2-2dbb54784cbf')\"\n",
              "              title=\"Convert this dataframe to an interactive table.\"\n",
              "              style=\"display:none;\">\n",
              "        \n",
              "  <svg xmlns=\"http://www.w3.org/2000/svg\" height=\"24px\"viewBox=\"0 0 24 24\"\n",
              "       width=\"24px\">\n",
              "    <path d=\"M0 0h24v24H0V0z\" fill=\"none\"/>\n",
              "    <path d=\"M18.56 5.44l.94 2.06.94-2.06 2.06-.94-2.06-.94-.94-2.06-.94 2.06-2.06.94zm-11 1L8.5 8.5l.94-2.06 2.06-.94-2.06-.94L8.5 2.5l-.94 2.06-2.06.94zm10 10l.94 2.06.94-2.06 2.06-.94-2.06-.94-.94-2.06-.94 2.06-2.06.94z\"/><path d=\"M17.41 7.96l-1.37-1.37c-.4-.4-.92-.59-1.43-.59-.52 0-1.04.2-1.43.59L10.3 9.45l-7.72 7.72c-.78.78-.78 2.05 0 2.83L4 21.41c.39.39.9.59 1.41.59.51 0 1.02-.2 1.41-.59l7.78-7.78 2.81-2.81c.8-.78.8-2.07 0-2.86zM5.41 20L4 18.59l7.72-7.72 1.47 1.35L5.41 20z\"/>\n",
              "  </svg>\n",
              "      </button>\n",
              "      \n",
              "  <style>\n",
              "    .colab-df-container {\n",
              "      display:flex;\n",
              "      flex-wrap:wrap;\n",
              "      gap: 12px;\n",
              "    }\n",
              "\n",
              "    .colab-df-convert {\n",
              "      background-color: #E8F0FE;\n",
              "      border: none;\n",
              "      border-radius: 50%;\n",
              "      cursor: pointer;\n",
              "      display: none;\n",
              "      fill: #1967D2;\n",
              "      height: 32px;\n",
              "      padding: 0 0 0 0;\n",
              "      width: 32px;\n",
              "    }\n",
              "\n",
              "    .colab-df-convert:hover {\n",
              "      background-color: #E2EBFA;\n",
              "      box-shadow: 0px 1px 2px rgba(60, 64, 67, 0.3), 0px 1px 3px 1px rgba(60, 64, 67, 0.15);\n",
              "      fill: #174EA6;\n",
              "    }\n",
              "\n",
              "    [theme=dark] .colab-df-convert {\n",
              "      background-color: #3B4455;\n",
              "      fill: #D2E3FC;\n",
              "    }\n",
              "\n",
              "    [theme=dark] .colab-df-convert:hover {\n",
              "      background-color: #434B5C;\n",
              "      box-shadow: 0px 1px 3px 1px rgba(0, 0, 0, 0.15);\n",
              "      filter: drop-shadow(0px 1px 2px rgba(0, 0, 0, 0.3));\n",
              "      fill: #FFFFFF;\n",
              "    }\n",
              "  </style>\n",
              "\n",
              "      <script>\n",
              "        const buttonEl =\n",
              "          document.querySelector('#df-a8563ca9-8c1f-46a3-acf2-2dbb54784cbf button.colab-df-convert');\n",
              "        buttonEl.style.display =\n",
              "          google.colab.kernel.accessAllowed ? 'block' : 'none';\n",
              "\n",
              "        async function convertToInteractive(key) {\n",
              "          const element = document.querySelector('#df-a8563ca9-8c1f-46a3-acf2-2dbb54784cbf');\n",
              "          const dataTable =\n",
              "            await google.colab.kernel.invokeFunction('convertToInteractive',\n",
              "                                                     [key], {});\n",
              "          if (!dataTable) return;\n",
              "\n",
              "          const docLinkHtml = 'Like what you see? Visit the ' +\n",
              "            '<a target=\"_blank\" href=https://colab.research.google.com/notebooks/data_table.ipynb>data table notebook</a>'\n",
              "            + ' to learn more about interactive tables.';\n",
              "          element.innerHTML = '';\n",
              "          dataTable['output_type'] = 'display_data';\n",
              "          await google.colab.output.renderOutput(dataTable, element);\n",
              "          const docLink = document.createElement('div');\n",
              "          docLink.innerHTML = docLinkHtml;\n",
              "          element.appendChild(docLink);\n",
              "        }\n",
              "      </script>\n",
              "    </div>\n",
              "  </div>\n",
              "  "
            ]
          },
          "metadata": {},
          "execution_count": 24
        }
      ],
      "source": [
        "data1"
      ]
    },
    {
      "cell_type": "markdown",
      "source": [
        "Normalizing Data"
      ],
      "metadata": {
        "id": "ULfGMWQgwDN5"
      }
    },
    {
      "cell_type": "code",
      "execution_count": null,
      "metadata": {
        "id": "2puAEuca0GP2"
      },
      "outputs": [],
      "source": [
        "from sklearn.preprocessing import StandardScaler\n",
        "\n",
        "# create a StandardScaler object\n",
        "scaler = StandardScaler()\n",
        "\n",
        "# normalize the specified columns in the dataframe\n",
        "columns_to_normalize = [ 'room_coor_x', 'room_coor_y', 'screen_coor_x', 'screen_coor_y', 'hover_duration', 'elapsed_time']\n",
        "data1[columns_to_normalize] = scaler.fit_transform(data1[columns_to_normalize])"
      ]
    },
    {
      "cell_type": "markdown",
      "metadata": {
        "id": "HtCQ3c6vTSll"
      },
      "source": [
        "Splitting three levels of data"
      ]
    },
    {
      "cell_type": "code",
      "execution_count": null,
      "metadata": {
        "id": "-Uhzgi6rTaBB"
      },
      "outputs": [],
      "source": [
        "def split_levels(df):\n",
        "  df1 = df[df['level_group'] == '0-4']\n",
        "  df2 = df[(df['level_group'] == '5-12') | (df['level_group'] == '0-4')]\n",
        "  df3 = df[(df['level_group'] == '5-12') | (df['level_group'] == '0-4') | (df['level_group'] == '13-22')]\n",
        "  return df1, df2, df3"
      ]
    },
    {
      "cell_type": "markdown",
      "metadata": {
        "id": "8CX9CMILZe_9"
      },
      "source": [
        "counting the number of correct answers in each group"
      ]
    },
    {
      "cell_type": "code",
      "execution_count": null,
      "metadata": {
        "id": "mHGg92DJXsAs"
      },
      "outputs": [],
      "source": [
        "\n",
        "data1 = pd.merge(data1, labels[['session','level','correct']],  on=['session','level'])"
      ]
    },
    {
      "cell_type": "code",
      "source": [
        "from sklearn.preprocessing import LabelEncoder\n",
        "# Create a LabelEncoder object\n",
        "le = LabelEncoder()\n",
        "\n",
        "# Fit the encoder to the level_group column\n",
        "le.fit(data1['level_group'])\n",
        "\n",
        "# Encode the level_group column\n",
        "data1['level_group'] = le.transform(data1['level_group'])\n"
      ],
      "metadata": {
        "id": "c2Vr7ie4-7pF"
      },
      "execution_count": null,
      "outputs": []
    },
    {
      "cell_type": "markdown",
      "metadata": {
        "id": "oDU3yqkgdwN3"
      },
      "source": [
        "# Model"
      ]
    },
    {
      "cell_type": "markdown",
      "metadata": {
        "id": "Lvt7g50pekWQ"
      },
      "source": [
        "split test and train data"
      ]
    },
    {
      "cell_type": "code",
      "execution_count": null,
      "metadata": {
        "id": "YTekUu72ejKl"
      },
      "outputs": [],
      "source": [
        "from sklearn.model_selection import train_test_split\n",
        "X_train, X_test, y_train, y_test = train_test_split(data1.drop('correct' , axis = 1), data1['correct'], test_size=0.2, random_state=42)\n"
      ]
    },
    {
      "cell_type": "markdown",
      "metadata": {
        "id": "rdoXRs1OekLc"
      },
      "source": [
        "Random Forest"
      ]
    },
    {
      "cell_type": "code",
      "source": [
        "# import numpy as np\n",
        "from sklearn.model_selection import RandomizedSearchCV\n",
        "from sklearn.ensemble import RandomForestClassifier\n",
        "\n",
        "# # Define the parameter distributions to search over\n",
        "# param_dist = {\n",
        "#     'n_estimators': np.arange(150, 501, 50),\n",
        "#     'max_depth': [None] + list(np.arange(5, 25, 5)),\n",
        "#     'min_samples_split': np.arange(2, 11),\n",
        "#     'min_samples_leaf': np.arange(1, 11),\n",
        "#     'max_features': ['auto', 'sqrt', 'log2', None]\n",
        "# }\n",
        "\n",
        "# # Create a Random Forest classifier object\n",
        "# rf = RandomForestClassifier(random_state=42)\n",
        "\n",
        "# # Perform a randomized search over the parameter distributions using 5-fold cross-validation\n",
        "# random_search = RandomizedSearchCV(estimator=rf, param_distributions=param_dist, n_iter=20, cv=5, random_state=42)\n",
        "\n",
        "# # Fit the randomized search object to the training data\n",
        "# random_search.fit(X_train, y_train)\n",
        "\n",
        "# # Print the best parameter settings\n",
        "# best_params = random_search.best_params_\n",
        "# print(f\"Best parameter settings: {best_params}\")\n",
        "\n",
        "# # Train a new model using the best parameter settings and evaluate on the test set\n",
        "# best_rf = RandomForestClassifier(**best_params, random_state=42)\n",
        "# best_rf.fit(X_train, y_train)\n",
        "# test_accuracy = best_rf.score(X_test, y_test)\n",
        "# print(f\"Test accuracy with best hyperparameters: {test_accuracy}\")"
      ],
      "metadata": {
        "id": "OwFAuQtwy-75"
      },
      "execution_count": null,
      "outputs": []
    },
    {
      "cell_type": "code",
      "execution_count": null,
      "metadata": {
        "colab": {
          "base_uri": "https://localhost:8080/",
          "height": 74
        },
        "id": "o0aRUJSQwqbz",
        "outputId": "683df749-365b-4144-b2c8-9a4392356c2c"
      },
      "outputs": [
        {
          "output_type": "execute_result",
          "data": {
            "text/plain": [
              "RandomForestClassifier(n_estimators=200, random_state=42)"
            ],
            "text/html": [
              "<style>#sk-container-id-1 {color: black;background-color: white;}#sk-container-id-1 pre{padding: 0;}#sk-container-id-1 div.sk-toggleable {background-color: white;}#sk-container-id-1 label.sk-toggleable__label {cursor: pointer;display: block;width: 100%;margin-bottom: 0;padding: 0.3em;box-sizing: border-box;text-align: center;}#sk-container-id-1 label.sk-toggleable__label-arrow:before {content: \"▸\";float: left;margin-right: 0.25em;color: #696969;}#sk-container-id-1 label.sk-toggleable__label-arrow:hover:before {color: black;}#sk-container-id-1 div.sk-estimator:hover label.sk-toggleable__label-arrow:before {color: black;}#sk-container-id-1 div.sk-toggleable__content {max-height: 0;max-width: 0;overflow: hidden;text-align: left;background-color: #f0f8ff;}#sk-container-id-1 div.sk-toggleable__content pre {margin: 0.2em;color: black;border-radius: 0.25em;background-color: #f0f8ff;}#sk-container-id-1 input.sk-toggleable__control:checked~div.sk-toggleable__content {max-height: 200px;max-width: 100%;overflow: auto;}#sk-container-id-1 input.sk-toggleable__control:checked~label.sk-toggleable__label-arrow:before {content: \"▾\";}#sk-container-id-1 div.sk-estimator input.sk-toggleable__control:checked~label.sk-toggleable__label {background-color: #d4ebff;}#sk-container-id-1 div.sk-label input.sk-toggleable__control:checked~label.sk-toggleable__label {background-color: #d4ebff;}#sk-container-id-1 input.sk-hidden--visually {border: 0;clip: rect(1px 1px 1px 1px);clip: rect(1px, 1px, 1px, 1px);height: 1px;margin: -1px;overflow: hidden;padding: 0;position: absolute;width: 1px;}#sk-container-id-1 div.sk-estimator {font-family: monospace;background-color: #f0f8ff;border: 1px dotted black;border-radius: 0.25em;box-sizing: border-box;margin-bottom: 0.5em;}#sk-container-id-1 div.sk-estimator:hover {background-color: #d4ebff;}#sk-container-id-1 div.sk-parallel-item::after {content: \"\";width: 100%;border-bottom: 1px solid gray;flex-grow: 1;}#sk-container-id-1 div.sk-label:hover label.sk-toggleable__label {background-color: #d4ebff;}#sk-container-id-1 div.sk-serial::before {content: \"\";position: absolute;border-left: 1px solid gray;box-sizing: border-box;top: 0;bottom: 0;left: 50%;z-index: 0;}#sk-container-id-1 div.sk-serial {display: flex;flex-direction: column;align-items: center;background-color: white;padding-right: 0.2em;padding-left: 0.2em;position: relative;}#sk-container-id-1 div.sk-item {position: relative;z-index: 1;}#sk-container-id-1 div.sk-parallel {display: flex;align-items: stretch;justify-content: center;background-color: white;position: relative;}#sk-container-id-1 div.sk-item::before, #sk-container-id-1 div.sk-parallel-item::before {content: \"\";position: absolute;border-left: 1px solid gray;box-sizing: border-box;top: 0;bottom: 0;left: 50%;z-index: -1;}#sk-container-id-1 div.sk-parallel-item {display: flex;flex-direction: column;z-index: 1;position: relative;background-color: white;}#sk-container-id-1 div.sk-parallel-item:first-child::after {align-self: flex-end;width: 50%;}#sk-container-id-1 div.sk-parallel-item:last-child::after {align-self: flex-start;width: 50%;}#sk-container-id-1 div.sk-parallel-item:only-child::after {width: 0;}#sk-container-id-1 div.sk-dashed-wrapped {border: 1px dashed gray;margin: 0 0.4em 0.5em 0.4em;box-sizing: border-box;padding-bottom: 0.4em;background-color: white;}#sk-container-id-1 div.sk-label label {font-family: monospace;font-weight: bold;display: inline-block;line-height: 1.2em;}#sk-container-id-1 div.sk-label-container {text-align: center;}#sk-container-id-1 div.sk-container {/* jupyter's `normalize.less` sets `[hidden] { display: none; }` but bootstrap.min.css set `[hidden] { display: none !important; }` so we also need the `!important` here to be able to override the default hidden behavior on the sphinx rendered scikit-learn.org. See: https://github.com/scikit-learn/scikit-learn/issues/21755 */display: inline-block !important;position: relative;}#sk-container-id-1 div.sk-text-repr-fallback {display: none;}</style><div id=\"sk-container-id-1\" class=\"sk-top-container\"><div class=\"sk-text-repr-fallback\"><pre>RandomForestClassifier(n_estimators=200, random_state=42)</pre><b>In a Jupyter environment, please rerun this cell to show the HTML representation or trust the notebook. <br />On GitHub, the HTML representation is unable to render, please try loading this page with nbviewer.org.</b></div><div class=\"sk-container\" hidden><div class=\"sk-item\"><div class=\"sk-estimator sk-toggleable\"><input class=\"sk-toggleable__control sk-hidden--visually\" id=\"sk-estimator-id-1\" type=\"checkbox\" checked><label for=\"sk-estimator-id-1\" class=\"sk-toggleable__label sk-toggleable__label-arrow\">RandomForestClassifier</label><div class=\"sk-toggleable__content\"><pre>RandomForestClassifier(n_estimators=200, random_state=42)</pre></div></div></div></div></div>"
            ]
          },
          "metadata": {},
          "execution_count": 31
        }
      ],
      "source": [
        "model = RandomForestClassifier(n_estimators=200, random_state=42)\n",
        "model.fit(X_train, y_train)"
      ]
    },
    {
      "cell_type": "code",
      "execution_count": null,
      "metadata": {
        "id": "ObVEIr6SiOgj",
        "colab": {
          "base_uri": "https://localhost:8080/"
        },
        "outputId": "f0a03628-dd3f-406f-b307-c0a3e2b44fba"
      },
      "outputs": [
        {
          "output_type": "stream",
          "name": "stdout",
          "text": [
            "accuracy:  0.7381922064430829\n",
            "0.8794639724970181\n",
            "0.7290007706139224\n",
            "0.7\n"
          ]
        }
      ],
      "source": [
        "from sklearn.metrics import accuracy_score\n",
        "print('accuracy: ',accuracy_score(model.predict(X_test),y_test))\n",
        "for i in range (3):\n",
        "  pred = model.predict(X_test[X_test['level_group']== i])\n",
        "  accuracy1 = accuracy_score(y_test[X_test['level_group']== i], pred)\n",
        "\n",
        "  print(accuracy1)\n",
        "\n"
      ]
    },
    {
      "cell_type": "code",
      "source": [
        "from statistics import mean\n",
        "arg_values = range(1,19)\n",
        "\n",
        "accs = []\n",
        "for i in arg_values:\n",
        "    # Evaluate the model on the testing set\n",
        "    y_pred = model.predict(X_test[X_test['level'] == i])\n",
        "\n",
        "    pred = model.predict(X_test[X_test['level'] == i])\n",
        "    accs .append(accuracy_score(y_test[X_test['level'] == i], pred))\n",
        "    accuracy1 = accs[-1]\n",
        "\n",
        "    print('quesion %d accuracy: %f'%(i ,accuracy1))\n",
        "\n",
        "print('mean', mean(accs))"
      ],
      "metadata": {
        "colab": {
          "base_uri": "https://localhost:8080/"
        },
        "id": "_gSzUNHLs6Mu",
        "outputId": "40c3dfb6-2232-4c02-c073-1277281df850"
      },
      "execution_count": null,
      "outputs": [
        {
          "output_type": "stream",
          "name": "stdout",
          "text": [
            "quesion 1 accuracy: 0.723160\n",
            "quesion 2 accuracy: 0.977660\n",
            "quesion 3 accuracy: 0.940076\n",
            "quesion 4 accuracy: 0.803885\n",
            "quesion 5 accuracy: 0.569291\n",
            "quesion 6 accuracy: 0.785821\n",
            "quesion 7 accuracy: 0.726707\n",
            "quesion 8 accuracy: 0.595630\n",
            "quesion 9 accuracy: 0.741915\n",
            "quesion 10 accuracy: 0.531775\n",
            "quesion 11 accuracy: 0.642996\n",
            "quesion 12 accuracy: 0.869429\n",
            "quesion 13 accuracy: 0.722396\n",
            "quesion 14 accuracy: 0.698003\n",
            "quesion 15 accuracy: 0.569829\n",
            "quesion 16 accuracy: 0.738963\n",
            "quesion 17 accuracy: 0.686602\n",
            "quesion 18 accuracy: 0.952432\n",
            "mean 0.7375870611643797\n"
          ]
        }
      ]
    },
    {
      "cell_type": "code",
      "source": [
        "from sklearn.metrics import f1_score\n",
        "\n",
        "f1 = f1_score(y_test, model.predict(X_test))\n",
        "\n",
        "# Print the F1 score\n",
        "print(f\"F1 score1: {f1:.4f}\")\n"
      ],
      "metadata": {
        "colab": {
          "base_uri": "https://localhost:8080/"
        },
        "id": "BAtEh5U_335T",
        "outputId": "3e5995f7-aabf-45b1-9daf-7df0e202840e"
      },
      "execution_count": null,
      "outputs": [
        {
          "output_type": "stream",
          "name": "stdout",
          "text": [
            "F1 score1: 0.8327\n"
          ]
        }
      ]
    },
    {
      "cell_type": "code",
      "execution_count": null,
      "metadata": {
        "colab": {
          "base_uri": "https://localhost:8080/",
          "height": 585
        },
        "id": "vLnBD-5XnJci",
        "outputId": "e0893fc7-75c0-41f2-d8d1-89d08c13ed32"
      },
      "outputs": [
        {
          "output_type": "display_data",
          "data": {
            "text/plain": [
              "<Figure size 640x480 with 1 Axes>"
            ],
            "image/png": "[encoded data removed]"
          },
          "metadata": {}
        }
      ],
      "source": [
        "importances1 = model.feature_importances_\n",
        "\n",
        "plt.bar(range(X_train.shape[1]), importances1)\n",
        "plt.xticks(range(X_train.shape[1]), X_train.columns, rotation=90)\n",
        "plt.xlabel(\"Feature\")\n",
        "plt.ylabel(\"Importance\")\n",
        "plt.show()"
      ]
    },
    {
      "cell_type": "code",
      "source": [
        "from statistics import mean\n",
        "from sklearn.ensemble import RandomForestRegressor\n",
        "arg_values = range(1,19)\n",
        "\n",
        "models  = {}\n",
        "accs = []\n",
        "for i in arg_values:\n",
        "    # Train a random forest model\n",
        "    rf = RandomForestClassifier(n_estimators=100, random_state=42)\n",
        "    rf.fit(X_train[X_train['level'] == i], y_train[X_train['level'] == i])\n",
        "    models[i] = rf\n",
        "    # Evaluate the model on the testing set\n",
        "    y_pred = rf.predict(X_test[X_test['level'] == i])\n",
        "    pred = models[i].predict(X_test[X_test['level'] == i])\n",
        "    accs .append(accuracy_score(y_test[X_test['level'] == i], pred))\n",
        "    accuracy1 = accs[-1]\n",
        "\n",
        "    print('quesion %d accuracy: %f'%(i ,accuracy1))\n",
        "\n",
        "print('mean', mean(accs))"
      ],
      "metadata": {
        "colab": {
          "base_uri": "https://localhost:8080/"
        },
        "id": "7UUT1okREHIz",
        "outputId": "4d93a625-2941-4629-cb82-c9ea379f93b6"
      },
      "execution_count": null,
      "outputs": [
        {
          "output_type": "stream",
          "name": "stdout",
          "text": [
            "quesion 1 accuracy: 0.720242\n",
            "quesion 2 accuracy: 0.977660\n",
            "quesion 3 accuracy: 0.939655\n",
            "quesion 4 accuracy: 0.800752\n",
            "quesion 5 accuracy: 0.567339\n",
            "quesion 6 accuracy: 0.784326\n",
            "quesion 7 accuracy: 0.721104\n",
            "quesion 8 accuracy: 0.585677\n",
            "quesion 9 accuracy: 0.740630\n",
            "quesion 10 accuracy: 0.536238\n",
            "quesion 11 accuracy: 0.635226\n",
            "quesion 12 accuracy: 0.867755\n",
            "quesion 13 accuracy: 0.720518\n",
            "quesion 14 accuracy: 0.697568\n",
            "quesion 15 accuracy: 0.565181\n",
            "quesion 16 accuracy: 0.736391\n",
            "quesion 17 accuracy: 0.682529\n",
            "quesion 18 accuracy: 0.952432\n",
            "mean 0.735067872761222\n"
          ]
        }
      ]
    }
  ],
  "metadata": {
    "colab": {
      "provenance": [],
      "authorship_tag": "ABX9TyN4G/b6L31e65aIpjXMwqcE",
      "include_colab_link": true
    },
    "kernelspec": {
      "display_name": "Python 3",
      "name": "python3"
    },
    "language_info": {
      "name": "python"
    }
  },
  "nbformat": 4,
  "nbformat_minor": 0
}